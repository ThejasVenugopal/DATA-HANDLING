{
  "cells": [
    {
      "cell_type": "markdown",
      "metadata": {
        "id": "view-in-github",
        "colab_type": "text"
      },
      "source": [
        "<a href=\"https://colab.research.google.com/github/ThejasVenugopal/DATA-HANDLING/blob/main/Cybercrime_visualization.ipynb\" target=\"_parent\"><img src=\"https://colab.research.google.com/assets/colab-badge.svg\" alt=\"Open In Colab\"/></a>"
      ]
    },
    {
      "cell_type": "code",
      "execution_count": null,
      "metadata": {
        "colab": {
          "base_uri": "https://localhost:8080/",
          "height": 342
        },
        "id": "HUh4hkepbcvK",
        "outputId": "e4f6a249-67d0-45aa-df8b-dcac7502ab0b"
      },
      "outputs": [
        {
          "output_type": "display_data",
          "data": {
            "text/plain": [
              "<IPython.core.display.HTML object>"
            ],
            "text/html": [
              "\n",
              "     <input type=\"file\" id=\"files-1bec3bd6-ce91-4cfd-aeb4-8cd505f4c784\" name=\"files[]\" multiple disabled\n",
              "        style=\"border:none\" />\n",
              "     <output id=\"result-1bec3bd6-ce91-4cfd-aeb4-8cd505f4c784\">\n",
              "      Upload widget is only available when the cell has been executed in the\n",
              "      current browser session. Please rerun this cell to enable.\n",
              "      </output>\n",
              "      <script>// Copyright 2017 Google LLC\n",
              "//\n",
              "// Licensed under the Apache License, Version 2.0 (the \"License\");\n",
              "// you may not use this file except in compliance with the License.\n",
              "// You may obtain a copy of the License at\n",
              "//\n",
              "//      http://www.apache.org/licenses/LICENSE-2.0\n",
              "//\n",
              "// Unless required by applicable law or agreed to in writing, software\n",
              "// distributed under the License is distributed on an \"AS IS\" BASIS,\n",
              "// WITHOUT WARRANTIES OR CONDITIONS OF ANY KIND, either express or implied.\n",
              "// See the License for the specific language governing permissions and\n",
              "// limitations under the License.\n",
              "\n",
              "/**\n",
              " * @fileoverview Helpers for google.colab Python module.\n",
              " */\n",
              "(function(scope) {\n",
              "function span(text, styleAttributes = {}) {\n",
              "  const element = document.createElement('span');\n",
              "  element.textContent = text;\n",
              "  for (const key of Object.keys(styleAttributes)) {\n",
              "    element.style[key] = styleAttributes[key];\n",
              "  }\n",
              "  return element;\n",
              "}\n",
              "\n",
              "// Max number of bytes which will be uploaded at a time.\n",
              "const MAX_PAYLOAD_SIZE = 100 * 1024;\n",
              "\n",
              "function _uploadFiles(inputId, outputId) {\n",
              "  const steps = uploadFilesStep(inputId, outputId);\n",
              "  const outputElement = document.getElementById(outputId);\n",
              "  // Cache steps on the outputElement to make it available for the next call\n",
              "  // to uploadFilesContinue from Python.\n",
              "  outputElement.steps = steps;\n",
              "\n",
              "  return _uploadFilesContinue(outputId);\n",
              "}\n",
              "\n",
              "// This is roughly an async generator (not supported in the browser yet),\n",
              "// where there are multiple asynchronous steps and the Python side is going\n",
              "// to poll for completion of each step.\n",
              "// This uses a Promise to block the python side on completion of each step,\n",
              "// then passes the result of the previous step as the input to the next step.\n",
              "function _uploadFilesContinue(outputId) {\n",
              "  const outputElement = document.getElementById(outputId);\n",
              "  const steps = outputElement.steps;\n",
              "\n",
              "  const next = steps.next(outputElement.lastPromiseValue);\n",
              "  return Promise.resolve(next.value.promise).then((value) => {\n",
              "    // Cache the last promise value to make it available to the next\n",
              "    // step of the generator.\n",
              "    outputElement.lastPromiseValue = value;\n",
              "    return next.value.response;\n",
              "  });\n",
              "}\n",
              "\n",
              "/**\n",
              " * Generator function which is called between each async step of the upload\n",
              " * process.\n",
              " * @param {string} inputId Element ID of the input file picker element.\n",
              " * @param {string} outputId Element ID of the output display.\n",
              " * @return {!Iterable<!Object>} Iterable of next steps.\n",
              " */\n",
              "function* uploadFilesStep(inputId, outputId) {\n",
              "  const inputElement = document.getElementById(inputId);\n",
              "  inputElement.disabled = false;\n",
              "\n",
              "  const outputElement = document.getElementById(outputId);\n",
              "  outputElement.innerHTML = '';\n",
              "\n",
              "  const pickedPromise = new Promise((resolve) => {\n",
              "    inputElement.addEventListener('change', (e) => {\n",
              "      resolve(e.target.files);\n",
              "    });\n",
              "  });\n",
              "\n",
              "  const cancel = document.createElement('button');\n",
              "  inputElement.parentElement.appendChild(cancel);\n",
              "  cancel.textContent = 'Cancel upload';\n",
              "  const cancelPromise = new Promise((resolve) => {\n",
              "    cancel.onclick = () => {\n",
              "      resolve(null);\n",
              "    };\n",
              "  });\n",
              "\n",
              "  // Wait for the user to pick the files.\n",
              "  const files = yield {\n",
              "    promise: Promise.race([pickedPromise, cancelPromise]),\n",
              "    response: {\n",
              "      action: 'starting',\n",
              "    }\n",
              "  };\n",
              "\n",
              "  cancel.remove();\n",
              "\n",
              "  // Disable the input element since further picks are not allowed.\n",
              "  inputElement.disabled = true;\n",
              "\n",
              "  if (!files) {\n",
              "    return {\n",
              "      response: {\n",
              "        action: 'complete',\n",
              "      }\n",
              "    };\n",
              "  }\n",
              "\n",
              "  for (const file of files) {\n",
              "    const li = document.createElement('li');\n",
              "    li.append(span(file.name, {fontWeight: 'bold'}));\n",
              "    li.append(span(\n",
              "        `(${file.type || 'n/a'}) - ${file.size} bytes, ` +\n",
              "        `last modified: ${\n",
              "            file.lastModifiedDate ? file.lastModifiedDate.toLocaleDateString() :\n",
              "                                    'n/a'} - `));\n",
              "    const percent = span('0% done');\n",
              "    li.appendChild(percent);\n",
              "\n",
              "    outputElement.appendChild(li);\n",
              "\n",
              "    const fileDataPromise = new Promise((resolve) => {\n",
              "      const reader = new FileReader();\n",
              "      reader.onload = (e) => {\n",
              "        resolve(e.target.result);\n",
              "      };\n",
              "      reader.readAsArrayBuffer(file);\n",
              "    });\n",
              "    // Wait for the data to be ready.\n",
              "    let fileData = yield {\n",
              "      promise: fileDataPromise,\n",
              "      response: {\n",
              "        action: 'continue',\n",
              "      }\n",
              "    };\n",
              "\n",
              "    // Use a chunked sending to avoid message size limits. See b/62115660.\n",
              "    let position = 0;\n",
              "    do {\n",
              "      const length = Math.min(fileData.byteLength - position, MAX_PAYLOAD_SIZE);\n",
              "      const chunk = new Uint8Array(fileData, position, length);\n",
              "      position += length;\n",
              "\n",
              "      const base64 = btoa(String.fromCharCode.apply(null, chunk));\n",
              "      yield {\n",
              "        response: {\n",
              "          action: 'append',\n",
              "          file: file.name,\n",
              "          data: base64,\n",
              "        },\n",
              "      };\n",
              "\n",
              "      let percentDone = fileData.byteLength === 0 ?\n",
              "          100 :\n",
              "          Math.round((position / fileData.byteLength) * 100);\n",
              "      percent.textContent = `${percentDone}% done`;\n",
              "\n",
              "    } while (position < fileData.byteLength);\n",
              "  }\n",
              "\n",
              "  // All done.\n",
              "  yield {\n",
              "    response: {\n",
              "      action: 'complete',\n",
              "    }\n",
              "  };\n",
              "}\n",
              "\n",
              "scope.google = scope.google || {};\n",
              "scope.google.colab = scope.google.colab || {};\n",
              "scope.google.colab._files = {\n",
              "  _uploadFiles,\n",
              "  _uploadFilesContinue,\n",
              "};\n",
              "})(self);\n",
              "</script> "
            ]
          },
          "metadata": {}
        },
        {
          "output_type": "error",
          "ename": "KeyboardInterrupt",
          "evalue": "",
          "traceback": [
            "\u001b[0;31m---------------------------------------------------------------------------\u001b[0m",
            "\u001b[0;31mKeyboardInterrupt\u001b[0m                         Traceback (most recent call last)",
            "\u001b[0;32m<ipython-input-2-c38e867c1515>\u001b[0m in \u001b[0;36m<cell line: 3>\u001b[0;34m()\u001b[0m\n\u001b[1;32m      1\u001b[0m \u001b[0;32mfrom\u001b[0m \u001b[0mgoogle\u001b[0m\u001b[0;34m.\u001b[0m\u001b[0mcolab\u001b[0m \u001b[0;32mimport\u001b[0m \u001b[0mfiles\u001b[0m\u001b[0;34m\u001b[0m\u001b[0;34m\u001b[0m\u001b[0m\n\u001b[1;32m      2\u001b[0m \u001b[0;34m\u001b[0m\u001b[0m\n\u001b[0;32m----> 3\u001b[0;31m \u001b[0mfile1\u001b[0m \u001b[0;34m=\u001b[0m \u001b[0mfiles\u001b[0m\u001b[0;34m.\u001b[0m\u001b[0mupload\u001b[0m\u001b[0;34m(\u001b[0m\u001b[0;34m)\u001b[0m\u001b[0;34m\u001b[0m\u001b[0;34m\u001b[0m\u001b[0m\n\u001b[0m",
            "\u001b[0;32m/usr/local/lib/python3.10/dist-packages/google/colab/files.py\u001b[0m in \u001b[0;36mupload\u001b[0;34m()\u001b[0m\n\u001b[1;32m     67\u001b[0m   \"\"\"\n\u001b[1;32m     68\u001b[0m \u001b[0;34m\u001b[0m\u001b[0m\n\u001b[0;32m---> 69\u001b[0;31m   \u001b[0muploaded_files\u001b[0m \u001b[0;34m=\u001b[0m \u001b[0m_upload_files\u001b[0m\u001b[0;34m(\u001b[0m\u001b[0mmultiple\u001b[0m\u001b[0;34m=\u001b[0m\u001b[0;32mTrue\u001b[0m\u001b[0;34m)\u001b[0m\u001b[0;34m\u001b[0m\u001b[0;34m\u001b[0m\u001b[0m\n\u001b[0m\u001b[1;32m     70\u001b[0m   \u001b[0;31m# Mapping from original filename to filename as saved locally.\u001b[0m\u001b[0;34m\u001b[0m\u001b[0;34m\u001b[0m\u001b[0m\n\u001b[1;32m     71\u001b[0m   \u001b[0mlocal_filenames\u001b[0m \u001b[0;34m=\u001b[0m \u001b[0mdict\u001b[0m\u001b[0;34m(\u001b[0m\u001b[0;34m)\u001b[0m\u001b[0;34m\u001b[0m\u001b[0;34m\u001b[0m\u001b[0m\n",
            "\u001b[0;32m/usr/local/lib/python3.10/dist-packages/google/colab/files.py\u001b[0m in \u001b[0;36m_upload_files\u001b[0;34m(multiple)\u001b[0m\n\u001b[1;32m    154\u001b[0m \u001b[0;34m\u001b[0m\u001b[0m\n\u001b[1;32m    155\u001b[0m   \u001b[0;31m# First result is always an indication that the file picker has completed.\u001b[0m\u001b[0;34m\u001b[0m\u001b[0;34m\u001b[0m\u001b[0m\n\u001b[0;32m--> 156\u001b[0;31m   result = _output.eval_js(\n\u001b[0m\u001b[1;32m    157\u001b[0m       'google.colab._files._uploadFiles(\"{input_id}\", \"{output_id}\")'.format(\n\u001b[1;32m    158\u001b[0m           \u001b[0minput_id\u001b[0m\u001b[0;34m=\u001b[0m\u001b[0minput_id\u001b[0m\u001b[0;34m,\u001b[0m \u001b[0moutput_id\u001b[0m\u001b[0;34m=\u001b[0m\u001b[0moutput_id\u001b[0m\u001b[0;34m\u001b[0m\u001b[0;34m\u001b[0m\u001b[0m\n",
            "\u001b[0;32m/usr/local/lib/python3.10/dist-packages/google/colab/output/_js.py\u001b[0m in \u001b[0;36meval_js\u001b[0;34m(script, ignore_result, timeout_sec)\u001b[0m\n\u001b[1;32m     38\u001b[0m   \u001b[0;32mif\u001b[0m \u001b[0mignore_result\u001b[0m\u001b[0;34m:\u001b[0m\u001b[0;34m\u001b[0m\u001b[0;34m\u001b[0m\u001b[0m\n\u001b[1;32m     39\u001b[0m     \u001b[0;32mreturn\u001b[0m\u001b[0;34m\u001b[0m\u001b[0;34m\u001b[0m\u001b[0m\n\u001b[0;32m---> 40\u001b[0;31m   \u001b[0;32mreturn\u001b[0m \u001b[0m_message\u001b[0m\u001b[0;34m.\u001b[0m\u001b[0mread_reply_from_input\u001b[0m\u001b[0;34m(\u001b[0m\u001b[0mrequest_id\u001b[0m\u001b[0;34m,\u001b[0m \u001b[0mtimeout_sec\u001b[0m\u001b[0;34m)\u001b[0m\u001b[0;34m\u001b[0m\u001b[0;34m\u001b[0m\u001b[0m\n\u001b[0m\u001b[1;32m     41\u001b[0m \u001b[0;34m\u001b[0m\u001b[0m\n\u001b[1;32m     42\u001b[0m \u001b[0;34m\u001b[0m\u001b[0m\n",
            "\u001b[0;32m/usr/local/lib/python3.10/dist-packages/google/colab/_message.py\u001b[0m in \u001b[0;36mread_reply_from_input\u001b[0;34m(message_id, timeout_sec)\u001b[0m\n\u001b[1;32m     94\u001b[0m     \u001b[0mreply\u001b[0m \u001b[0;34m=\u001b[0m \u001b[0m_read_next_input_message\u001b[0m\u001b[0;34m(\u001b[0m\u001b[0;34m)\u001b[0m\u001b[0;34m\u001b[0m\u001b[0;34m\u001b[0m\u001b[0m\n\u001b[1;32m     95\u001b[0m     \u001b[0;32mif\u001b[0m \u001b[0mreply\u001b[0m \u001b[0;34m==\u001b[0m \u001b[0m_NOT_READY\u001b[0m \u001b[0;32mor\u001b[0m \u001b[0;32mnot\u001b[0m \u001b[0misinstance\u001b[0m\u001b[0;34m(\u001b[0m\u001b[0mreply\u001b[0m\u001b[0;34m,\u001b[0m \u001b[0mdict\u001b[0m\u001b[0;34m)\u001b[0m\u001b[0;34m:\u001b[0m\u001b[0;34m\u001b[0m\u001b[0;34m\u001b[0m\u001b[0m\n\u001b[0;32m---> 96\u001b[0;31m       \u001b[0mtime\u001b[0m\u001b[0;34m.\u001b[0m\u001b[0msleep\u001b[0m\u001b[0;34m(\u001b[0m\u001b[0;36m0.025\u001b[0m\u001b[0;34m)\u001b[0m\u001b[0;34m\u001b[0m\u001b[0;34m\u001b[0m\u001b[0m\n\u001b[0m\u001b[1;32m     97\u001b[0m       \u001b[0;32mcontinue\u001b[0m\u001b[0;34m\u001b[0m\u001b[0;34m\u001b[0m\u001b[0m\n\u001b[1;32m     98\u001b[0m     if (\n",
            "\u001b[0;31mKeyboardInterrupt\u001b[0m: "
          ]
        }
      ],
      "source": [
        "from google.colab import files\n",
        "\n",
        "file1 = files.upload()"
      ]
    },
    {
      "cell_type": "code",
      "execution_count": null,
      "metadata": {
        "id": "MS-iK7zablcp"
      },
      "outputs": [],
      "source": [
        "file2 = files.upload()"
      ]
    },
    {
      "cell_type": "code",
      "execution_count": null,
      "metadata": {
        "id": "oqMt4CPKbuTn"
      },
      "outputs": [],
      "source": [
        "import pandas as pd\n",
        "import numpy as np\n",
        "import seaborn as sns\n",
        "import matplotlib.pyplot as plt\n",
        "\n",
        "year_2018 = pd.read_excel(\"./2018 Cyber Crime Stats.xlsx\")\n",
        "year_2019 = pd.read_excel(\"./2019 Cyber Crime Stats.xlsx\")"
      ]
    },
    {
      "cell_type": "code",
      "execution_count": null,
      "metadata": {
        "id": "NfB2A2O9ef14"
      },
      "outputs": [],
      "source": [
        "year_2018.head()"
      ]
    },
    {
      "cell_type": "code",
      "execution_count": null,
      "metadata": {
        "id": "kzdVsv2HehqQ"
      },
      "outputs": [],
      "source": [
        "sns.barplot(x = 'Total', y ='City', data = year_2018)\n",
        "sns.set(rc={'figure.figsize':(31,15)})\n",
        "sns.set(font_scale=1.5)"
      ]
    },
    {
      "cell_type": "code",
      "execution_count": null,
      "metadata": {
        "id": "yZCJDhsWfRXD"
      },
      "outputs": [],
      "source": [
        "sns.barplot(x = 'Total', y ='City', data = year_2019, palette = \"deep\")\n",
        "sns.set(rc={'figure.figsize':(31,15)})\n",
        "sns.set(font_scale=1.5)"
      ]
    },
    {
      "cell_type": "code",
      "execution_count": null,
      "metadata": {
        "id": "uDTDrXKJfTcL"
      },
      "outputs": [],
      "source": [
        "new_df = pd.DataFrame()\n",
        "new_df2 = pd.DataFrame()"
      ]
    },
    {
      "cell_type": "code",
      "execution_count": null,
      "metadata": {
        "id": "rU0BWYNefVKm"
      },
      "outputs": [],
      "source": [
        "new_df['City'], new_df['Total'] , new_df['Year'], new_df['Crime Rate'] = year_2018['City'], year_2018['Total'], 2018, year_2018['Crime Rate']\n",
        "new_df2['City'], new_df2['Total'] , new_df2['Year'], new_df2['Crime Rate'] = year_2019['City'], year_2019['Total'], 2019, year_2019['Crime Rate']\n",
        "final_df = pd.concat([new_df,new_df2], ignore_index = True)"
      ]
    },
    {
      "cell_type": "code",
      "execution_count": null,
      "metadata": {
        "id": "AtdQXcFafX0T"
      },
      "outputs": [],
      "source": [
        "sns.boxplot(x = 'Year', y = 'Total', data = final_df, palette = \"viridis\")\n",
        "sns.set(rc={'figure.figsize':(15,10)})"
      ]
    },
    {
      "cell_type": "code",
      "execution_count": null,
      "metadata": {
        "id": "ZlCsu505fqgy"
      },
      "outputs": [],
      "source": [
        "sns.boxplot(x = 'Year', y = 'Crime Rate', data = final_df, palette = \"mako\")\n",
        "sns.set(rc={'figure.figsize':(15,10)})"
      ]
    },
    {
      "cell_type": "code",
      "execution_count": null,
      "metadata": {
        "id": "1Ri27PKffsQ0"
      },
      "outputs": [],
      "source": [
        "sns.barplot(x = 'Total', y='City', hue = 'Year', data = final_df, palette = \"magma\")"
      ]
    },
    {
      "cell_type": "code",
      "execution_count": null,
      "metadata": {
        "id": "BeauuJtsfuzx"
      },
      "outputs": [],
      "source": [
        "year_2018.drop(year_2018.tail(1).index,inplace=True)\n",
        "year_2018.tail()"
      ]
    },
    {
      "cell_type": "code",
      "execution_count": null,
      "metadata": {
        "id": "Ccu2C4Cgfwzo"
      },
      "outputs": [],
      "source": [
        "a_list_name = ['Personal Revenge', 'Anger', 'Fraud', 'Extortion',\n",
        "       'Causing Disrepute', 'Prank', 'Sexual Exploitation',\n",
        "       'Political Motives', 'Terrorist Activities', 'Terrorist Recuit- ment',\n",
        "       'Terrorist Funding', 'Inciting Hate against Country',\n",
        "       'Disrupt Public Service', 'Sale purchase illegal drugs',\n",
        "       'Developing own business', 'Spreading Piracy', 'Psycho or Pervert',\n",
        "       'Steal Information', 'Abetment to Suicide', 'Others']\n",
        "\n",
        "a_list = [year_2018['Personal Revenge'].sum(),year_2018['Anger'].sum(),year_2018['Fraud'].sum(),\n",
        "          year_2018['Extortion'].sum(),year_2018['Causing Disrepute'].sum(),year_2018['Prank'].sum(),\n",
        "          year_2018['Sexual Exploitation'].sum(),year_2018['Political Motives'].sum(),year_2018['Terrorist Activities'].sum(),\n",
        "          year_2018['Terrorist Recuit- ment'].sum(),year_2018['Terrorist Funding'].sum(),year_2018['Inciting Hate against Country'].sum(),\n",
        "          year_2018['Disrupt Public Service'].sum(),year_2018['Sale purchase illegal drugs'].sum(),year_2018['Developing own business'].sum(),\n",
        "          year_2018['Spreading Piracy'].sum(),year_2018['Psycho or Pervert'].sum(),year_2018['Steal Information'].sum(),\n",
        "          year_2018['Abetment to Suicide'].sum(),year_2018['Others'].sum()]\n",
        "\n",
        "\n",
        "colors = ['yellow','blue','#e8392c','green','black','brown','#03b6fc','#812ce8','teal','purple','gray','orange','aquamarine',\n",
        "          'coral','fuchsia','lime','#ebc263','pink','magenta','cyan']\n",
        "\n",
        "my_circle=plt.Circle( (0,0), 0.7, color='white')\n",
        "\n",
        "fig = plt.figure()\n",
        "fig.patch.set_facecolor('black')\n",
        "\n",
        "plt.pie(a_list,wedgeprops = { 'linewidth' : 7, 'edgecolor' : 'white' }, colors = colors)\n",
        "p=plt.gcf()\n",
        "p.gca().add_artist(my_circle)\n",
        "plt.legend(a_list_name, bbox_to_anchor=(1.5, 1), loc=1, borderaxespad=0)\n",
        "plt.show()"
      ]
    },
    {
      "cell_type": "code",
      "execution_count": null,
      "metadata": {
        "id": "Zd9xYoQrfyo-"
      },
      "outputs": [],
      "source": [
        "b_list = [year_2019['Personal Revenge'].sum(),year_2019['Anger'].sum(),year_2019['Fraud'].sum(),\n",
        "          year_2019['Extortion'].sum(),year_2019['Causing Disrepute'].sum(),year_2019['Prank'].sum(),\n",
        "          year_2019['Sexual Exploitation'].sum(),year_2019['Political Motives'].sum(),year_2019['Terrorist Activities'].sum(),\n",
        "          year_2019['Terrorist Recuit- ment'].sum(),year_2019['Terrorist Funding'].sum(),year_2019['Inciting Hate against Country'].sum(),\n",
        "          year_2019['Disrupt Public Service'].sum(),year_2019['Sale purchase illegal drugs'].sum(),year_2019['Developing own business'].sum(),\n",
        "          year_2019['Spreading Piracy'].sum(),year_2019['Psycho or Pervert'].sum(),year_2019['Steal Information'].sum(),\n",
        "          year_2019['Abetment to Suicide'].sum(),year_2019['Others'].sum()]\n",
        "\n",
        "\n",
        "colors = ['yellow','blue','#e8392c','green','black','brown','#03b6fc','#812ce8','teal','purple','gray','orange','aquamarine',\n",
        "          'coral','fuchsia','lime','#ebc263','pink','magenta','cyan']\n",
        "\n",
        "my_circle=plt.Circle( (0,0), 0.7, color='white')\n",
        "\n",
        "fig = plt.figure()\n",
        "fig.patch.set_facecolor('black')\n",
        "\n",
        "plt.pie(b_list,wedgeprops = { 'linewidth' : 7, 'edgecolor' : 'white' }, colors = colors)\n",
        "p=plt.gcf()\n",
        "p.gca().add_artist(my_circle)\n",
        "plt.legend(a_list_name, bbox_to_anchor=(1.5, 1), loc=1, borderaxespad=0)\n",
        "plt.show()\n"
      ]
    },
    {
      "cell_type": "code",
      "execution_count": null,
      "metadata": {
        "id": "CnTGuHBKf1XI"
      },
      "outputs": [],
      "source": [
        "initial = year_2018.sort_values(['Total'], ascending = False)"
      ]
    },
    {
      "cell_type": "code",
      "execution_count": null,
      "metadata": {
        "id": "3CXZF7sGgA7o"
      },
      "outputs": [],
      "source": [
        "test = initial.iloc[0,:]\n",
        "test2 = initial.iloc[1,:]\n",
        "test3 = initial.iloc[2,:]\n",
        "test4 = initial.iloc[3,:]\n",
        "test5 = initial.iloc[4,:]\n",
        "test6 = initial.iloc[5,:]"
      ]
    },
    {
      "cell_type": "code",
      "execution_count": null,
      "metadata": {
        "id": "5arMVLQJf4Wo"
      },
      "outputs": [],
      "source": [
        "c_list = [test['Personal Revenge'],test['Anger'],test['Fraud'],\n",
        "          test['Extortion'],test['Causing Disrepute'],test['Prank'],\n",
        "          test['Sexual Exploitation'],test['Political Motives'],test['Terrorist Activities'],\n",
        "          test['Terrorist Recuit- ment'],test['Terrorist Funding'],test['Inciting Hate against Country'],\n",
        "          test['Disrupt Public Service'],test['Sale purchase illegal drugs'],test['Developing own business'],\n",
        "          test['Spreading Piracy'],test['Psycho or Pervert'],test['Steal Information'],\n",
        "          test['Abetment to Suicide'],test['Others']]\n",
        "\n",
        "d_list = [test2['Personal Revenge'],test2['Anger'],test2['Fraud'],\n",
        "          test2['Extortion'],test2['Causing Disrepute'],test2['Prank'],\n",
        "          test2['Sexual Exploitation'],test2['Political Motives'],test2['Terrorist Activities'],\n",
        "          test2['Terrorist Recuit- ment'],test2['Terrorist Funding'],test2['Inciting Hate against Country'],\n",
        "          test2['Disrupt Public Service'],test2['Sale purchase illegal drugs'],test2['Developing own business'],\n",
        "          test2['Spreading Piracy'],test2['Psycho or Pervert'],test2['Steal Information'],\n",
        "          test2['Abetment to Suicide'],test2['Others']]\n",
        "\n",
        "e_list = [test3['Personal Revenge'],test3['Anger'],test3['Fraud'],\n",
        "          test3['Extortion'],test3['Causing Disrepute'],test3['Prank'],\n",
        "          test3['Sexual Exploitation'],test3['Political Motives'],test3['Terrorist Activities'],\n",
        "          test3['Terrorist Recuit- ment'],test3['Terrorist Funding'],test3['Inciting Hate against Country'],\n",
        "          test3['Disrupt Public Service'],test3['Sale purchase illegal drugs'],test3['Developing own business'],\n",
        "          test3['Spreading Piracy'],test3['Psycho or Pervert'],test3['Steal Information'],\n",
        "          test3['Abetment to Suicide'],test3['Others']]\n",
        "\n",
        "f_list = [test4['Personal Revenge'],test4['Anger'],test4['Fraud'],\n",
        "          test4['Extortion'],test4['Causing Disrepute'],test4['Prank'],\n",
        "          test4['Sexual Exploitation'],test4['Political Motives'],test4['Terrorist Activities'],\n",
        "          test4['Terrorist Recuit- ment'],test4['Terrorist Funding'],test4['Inciting Hate against Country'],\n",
        "          test4['Disrupt Public Service'],test4['Sale purchase illegal drugs'],test4['Developing own business'],\n",
        "          test4['Spreading Piracy'],test4['Psycho or Pervert'],test4['Steal Information'],\n",
        "          test4['Abetment to Suicide'],test4['Others']]\n",
        "\n",
        "g_list = [test5['Personal Revenge'],test5['Anger'],test5['Fraud'],\n",
        "          test5['Extortion'],test5['Causing Disrepute'],test5['Prank'],\n",
        "          test5['Sexual Exploitation'],test5['Political Motives'],test5['Terrorist Activities'],\n",
        "          test5['Terrorist Recuit- ment'],test5['Terrorist Funding'],test5['Inciting Hate against Country'],\n",
        "          test5['Disrupt Public Service'],test5['Sale purchase illegal drugs'],test5['Developing own business'],\n",
        "          test5['Spreading Piracy'],test5['Psycho or Pervert'],test5['Steal Information'],\n",
        "          test5['Abetment to Suicide'],test5['Others']]\n",
        "\n",
        "h_list = [test6['Personal Revenge'],test6['Anger'],test6['Fraud'],\n",
        "          test6['Extortion'],test6['Causing Disrepute'],test6['Prank'],\n",
        "          test6['Sexual Exploitation'],test6['Political Motives'],test6['Terrorist Activities'],\n",
        "          test6['Terrorist Recuit- ment'],test6['Terrorist Funding'],test6['Inciting Hate against Country'],\n",
        "          test6['Disrupt Public Service'],test6['Sale purchase illegal drugs'],test6['Developing own business'],\n",
        "          test6['Spreading Piracy'],test6['Psycho or Pervert'],test6['Steal Information'],\n",
        "          test6['Abetment to Suicide'],test6['Others']]\n",
        "\n",
        "colors = ['yellow','blue','#e8392c','green','black','brown','#03b6fc','#812ce8','teal','purple','gray','orange','aquamarine',\n",
        "          'coral','fuchsia','lime','#ebc263','pink','magenta','cyan']\n",
        "\n",
        "my_circle=plt.Circle( (0,0), 0.7, color='white')\n",
        "\n",
        "fig = plt.figure(figsize=(15,10), dpi=1600)\n",
        "#fig = plt.figure()\n",
        "#fig.patch.set_facecolor('black')\n",
        "\n",
        "ax1 = plt.subplot2grid((2,3), (0,0))\n",
        "plt.pie(c_list, colors = colors)\n",
        "plt.title('Vishakhapatnam')\n",
        "\n",
        "ax1 = plt.subplot2grid((2, 3), (0, 1))\n",
        "plt.pie(d_list, colors = colors)\n",
        "plt.title('Varanasi')\n",
        "\n",
        "ax1 = plt.subplot2grid((2, 3), (0, 2))\n",
        "plt.pie(e_list, colors = colors)\n",
        "plt.title('Allahabad')\n",
        "\n",
        "ax1 = plt.subplot2grid((2, 3), (1, 0))\n",
        "plt.pie(f_list, colors = colors)\n",
        "plt.title('Vijaywada')\n",
        "\n",
        "ax1 = plt.subplot2grid((2, 3), (1, 1))\n",
        "plt.pie(g_list, colors = colors)\n",
        "plt.title('Ranchi')\n",
        "\n",
        "ax1 = plt.subplot2grid((2, 3), (1, 2))\n",
        "plt.pie(h_list, colors = colors)\n",
        "plt.title('Jodhpur')\n",
        "\n",
        "plt.legend(a_list_name, bbox_to_anchor=(1.1, 1.9))#loc=\"lower left\", ncol=len(initial.columns)//10)\n",
        "plt.show()"
      ]
    },
    {
      "cell_type": "code",
      "execution_count": null,
      "metadata": {
        "id": "tvS8n3FHf9_x"
      },
      "outputs": [],
      "source": [
        "final = year_2019.sort_values(['Total'], ascending = False)"
      ]
    },
    {
      "cell_type": "code",
      "execution_count": null,
      "metadata": {
        "id": "bhvFiNxlgHka"
      },
      "outputs": [],
      "source": [
        "temp = final.iloc[0,:]\n",
        "temp2 = final.iloc[1,:]\n",
        "temp3 = final.iloc[2,:]\n",
        "temp4 = final.iloc[3,:]\n",
        "temp5 = final.iloc[4,:]\n",
        "temp6 = final.iloc[5,:]"
      ]
    },
    {
      "cell_type": "code",
      "execution_count": null,
      "metadata": {
        "id": "b-N-V9zZgKdT"
      },
      "outputs": [],
      "source": [
        "q_list = [temp['Personal Revenge'],temp['Anger'],temp['Fraud'],\n",
        "          temp['Extortion'],temp['Causing Disrepute'],temp['Prank'],\n",
        "          temp['Sexual Exploitation'],temp['Political Motives'],temp['Terrorist Activities'],\n",
        "          temp['Terrorist Recuit- ment'],temp['Terrorist Funding'],temp['Inciting Hate against Country'],\n",
        "          temp['Disrupt Public Service'],temp['Sale purchase illegal drugs'],temp['Developing own business'],\n",
        "          temp['Spreading Piracy'],temp['Psycho or Pervert'],temp['Steal Information'],\n",
        "          temp['Abetment to Suicide'],temp['Others']]\n",
        "\n",
        "r_list = [temp2['Personal Revenge'],temp2['Anger'],temp2['Fraud'],\n",
        "          temp2['Extortion'],temp2['Causing Disrepute'],temp2['Prank'],\n",
        "          temp2['Sexual Exploitation'],temp2['Political Motives'],temp2['Terrorist Activities'],\n",
        "          temp2['Terrorist Recuit- ment'],temp2['Terrorist Funding'],temp2['Inciting Hate against Country'],\n",
        "          temp2['Disrupt Public Service'],temp2['Sale purchase illegal drugs'],temp2['Developing own business'],\n",
        "          temp2['Spreading Piracy'],temp2['Psycho or Pervert'],temp2['Steal Information'],\n",
        "          temp2['Abetment to Suicide'],temp2['Others']]\n",
        "\n",
        "s_list = [temp3['Personal Revenge'],temp3['Anger'],temp3['Fraud'],\n",
        "          temp3['Extortion'],temp3['Causing Disrepute'],temp3['Prank'],\n",
        "          temp3['Sexual Exploitation'],temp3['Political Motives'],temp3['Terrorist Activities'],\n",
        "          temp3['Terrorist Recuit- ment'],temp3['Terrorist Funding'],temp3['Inciting Hate against Country'],\n",
        "          temp3['Disrupt Public Service'],temp3['Sale purchase illegal drugs'],temp3['Developing own business'],\n",
        "          temp3['Spreading Piracy'],temp3['Psycho or Pervert'],temp3['Steal Information'],\n",
        "          temp3['Abetment to Suicide'],temp3['Others']]\n",
        "\n",
        "t_list = [temp4['Personal Revenge'],temp4['Anger'],temp4['Fraud'],\n",
        "          temp4['Extortion'],temp4['Causing Disrepute'],temp4['Prank'],\n",
        "          temp4['Sexual Exploitation'],temp4['Political Motives'],temp4['Terrorist Activities'],\n",
        "          temp4['Terrorist Recuit- ment'],temp4['Terrorist Funding'],temp4['Inciting Hate against Country'],\n",
        "          temp4['Disrupt Public Service'],temp4['Sale purchase illegal drugs'],temp4['Developing own business'],\n",
        "          temp4['Spreading Piracy'],temp4['Psycho or Pervert'],temp4['Steal Information'],\n",
        "          temp4['Abetment to Suicide'],temp4['Others']]\n",
        "\n",
        "u_list = [temp5['Personal Revenge'],temp5['Anger'],temp5['Fraud'],\n",
        "          temp5['Extortion'],temp5['Causing Disrepute'],temp5['Prank'],\n",
        "          temp5['Sexual Exploitation'],temp5['Political Motives'],temp5['Terrorist Activities'],\n",
        "          temp5['Terrorist Recuit- ment'],temp5['Terrorist Funding'],temp5['Inciting Hate against Country'],\n",
        "          temp5['Disrupt Public Service'],temp5['Sale purchase illegal drugs'],temp5['Developing own business'],\n",
        "          temp5['Spreading Piracy'],temp5['Psycho or Pervert'],temp5['Steal Information'],\n",
        "          temp5['Abetment to Suicide'],temp5['Others']]\n",
        "\n",
        "v_list = [temp6['Personal Revenge'],temp6['Anger'],temp6['Fraud'],\n",
        "          temp6['Extortion'],temp6['Causing Disrepute'],temp6['Prank'],\n",
        "          temp6['Sexual Exploitation'],temp6['Political Motives'],temp6['Terrorist Activities'],\n",
        "          temp6['Terrorist Recuit- ment'],temp6['Terrorist Funding'],temp6['Inciting Hate against Country'],\n",
        "          temp6['Disrupt Public Service'],temp6['Sale purchase illegal drugs'],temp6['Developing own business'],\n",
        "          temp6['Spreading Piracy'],temp6['Psycho or Pervert'],temp6['Steal Information'],\n",
        "          temp6['Abetment to Suicide'],temp6['Others']]\n",
        "\n",
        "colors = ['yellow','blue','#e8392c','green','black','brown','#03b6fc','#812ce8','teal','purple','gray','orange','aquamarine',\n",
        "          'coral','fuchsia','lime','#ebc263','pink','magenta','cyan']\n",
        "\n",
        "my_circle=plt.Circle( (0,0), 0.7, color='white')\n",
        "\n",
        "fig = plt.figure(figsize=(15,10), dpi=1600)\n",
        "#fig = plt.figure()\n",
        "#fig.patch.set_facecolor('black')\n",
        "\n",
        "ax1 = plt.subplot2grid((2,3), (0,0))\n",
        "plt.pie(q_list, colors = colors)\n",
        "plt.title('Varanasi')\n",
        "\n",
        "ax1 = plt.subplot2grid((2, 3), (0, 1))\n",
        "plt.pie(r_list, colors = colors)\n",
        "plt.title('Vishakhapatnam')\n",
        "\n",
        "ax1 = plt.subplot2grid((2, 3), (0, 2))\n",
        "plt.pie(s_list, colors = colors)\n",
        "plt.title('Allahabad')\n",
        "\n",
        "ax1 = plt.subplot2grid((2, 3), (1, 0))\n",
        "plt.pie(t_list, colors = colors)\n",
        "plt.title('Vijaywada')\n",
        "\n",
        "ax1 = plt.subplot2grid((2, 3), (1, 1))\n",
        "plt.pie(u_list, colors = colors)\n",
        "plt.title('Ranchi')\n",
        "\n",
        "ax1 = plt.subplot2grid((2, 3), (1, 2))\n",
        "plt.pie(v_list, colors = colors)\n",
        "plt.title('Jodhpur')\n",
        "\n",
        "plt.legend(a_list_name, bbox_to_anchor=(1.1, 1.9))#loc=\"lower left\", ncol=len(initial.columns)//10)\n",
        "plt.show()"
      ]
    },
    {
      "cell_type": "code",
      "execution_count": null,
      "metadata": {
        "id": "d1prKWKXEULq"
      },
      "outputs": [],
      "source": [
        "from wordcloud import WordCloud\n",
        "text = \"\"\n",
        "for row in year_2018.itertuples():\n",
        "  text += \" \".join(str(col) for col in row)\n",
        "for row in year_2019.itertuples():\n",
        "  text += \" \".join(str(col) for col in row)\n",
        "\n",
        "wordcloud = WordCloud(width=800, height=600, background_color=\"white\").generate(text)\n",
        "\n",
        "# Sort cities by crime rate\n",
        "cities_by_crime_rate = year_2018.sort_values(by=\"Total\", ascending=False)[\"City\"]\n",
        "\n",
        "# Create a dictionary to store word frequencies\n",
        "word_frequencies = {}\n",
        "for city in cities_by_crime_rate:\n",
        "  word_frequencies[city] = text.count(city)\n",
        "\n",
        "# Create a new wordcloud with word frequencies\n",
        "wordcloud = WordCloud(width=800, height=600, background_color=\"white\").generate_from_frequencies(word_frequencies)\n",
        "\n",
        "plt.figure(figsize=(10, 8))\n",
        "plt.imshow(wordcloud, interpolation=\"bilinear\")\n",
        "plt.axis(\"off\")\n",
        "plt.show()"
      ]
    },
    {
      "cell_type": "markdown",
      "metadata": {
        "id": "QnEFhusdi5tE"
      },
      "source": [
        "## The data visualizations reveal several insights into the nature of cybercrime in India.\n",
        "- Firstly, the bar charts indicate that the total number of cybercrimes has increased significantly from 2018 to 2019,\n",
        "with cities like Vishakhapatnam, Varanasi, and Allahabad experiencing the highest number of cases.\n",
        "\n",
        "- Secondly, the pie charts illustrate the distribution of cybercrime motivations, with personal revenge, anger, and fraud being the most prevalent motives.\n",
        "Thirdly, the boxplots highlight the variations in crime rates and total cases across different years, showcasing a general upward trend.\n",
        "- Lastly, the comparison of top cities based on crime motivations demonstrates the diversity in the reasons behind cybercrimes in different regions.\n",
        "These insights can be valuable for law enforcement agencies and policymakers in understanding the evolving trends and patterns of cybercrime in India."
      ]
    }
  ],
  "metadata": {
    "colab": {
      "provenance": [],
      "include_colab_link": true
    },
    "kernelspec": {
      "display_name": "Python 3",
      "name": "python3"
    },
    "language_info": {
      "name": "python"
    }
  },
  "nbformat": 4,
  "nbformat_minor": 0
}